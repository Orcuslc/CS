{
 "cells": [
  {
   "cell_type": "markdown",
   "metadata": {},
   "source": [
    "Activity 3NF\n",
    "------------\n",
    "\n",
    "In this activity, you can use the tools from last time:"
   ]
  },
  {
   "cell_type": "code",
   "execution_count": 1,
   "metadata": {},
   "outputs": [],
   "source": [
    "# def to_set(x):\n",
    "#     if type(x) == set:\n",
    "#         return x\n",
    "#     elif type(x) in [list, set]:\n",
    "#         return set(x)\n",
    "#     elif type(x) in [str, int]:\n",
    "#         return set([x])\n",
    "#     else:\n",
    "#         raise Exception(\"Unrecognized type.\")\n",
    "# def fd_to_str((lhs,rhs)): return \",\".join(to_set(lhs)) + \" -> \" + \",\".join(to_set(rhs))\n",
    "# def fds_to_str(fds): return \"\\n\\t\".join(map(fd_to_str, fds))\n",
    "# def set_to_str(x): return \"{\" + \",\".join(x) + \"}\"\n",
    "# def fd_applies_to(fd, x): \n",
    "#     lhs, rhs = map(to_set, fd)\n",
    "#     return lhs.issubset(x)\n",
    "# def compute_closure(x, fds, verbose=False):\n",
    "#     bChanged = True        # We will repeat until there are no changes.\n",
    "#     x_ret    = to_set(x).copy()    # Make a copy of the input to hold x^{+}\n",
    "#     while bChanged:\n",
    "#         bChanged = False   # Must change on each iteration\n",
    "#         for fd in fds:     # loop through all the FDs.\n",
    "#             (lhs, rhs) = map(to_set, fd) # recall: lhs -> rhs\n",
    "#             if fd_applies_to(fd, x_ret) and not rhs.issubset(x_ret):\n",
    "#                 x_ret = x_ret.union(rhs)\n",
    "#                 if verbose:\n",
    "#                     print(\"Using FD \" + fd_to_str(fd))\n",
    "#                     print(\"\\t Updated x to \" + set_to_str(x_ret))\n",
    "#                 bChanged = True\n",
    "#     return x_ret\n",
    "from closure import *\n",
    "def is_superkey_for(A, X, fds, verbose=False): \n",
    "    return X.issubset(compute_closure(A, fds, verbose=verbose))\n",
    "import itertools\n",
    "def is_key_for(A, X, fds, verbose=False):\n",
    "    subsets = set(itertools.combinations(A, len(A)-1))\n",
    "    return is_superkey_for(A, X, fds) and \\\n",
    "        all([not is_superkey_for(set(SA), X, fds) for SA in subsets])"
   ]
  },
  {
   "cell_type": "markdown",
   "metadata": {},
   "source": [
    "### Exercise 1\n",
    "\n",
    "Given the set of attributes below, and using the tools above to test / justify your conclusion, come up with the smallest number of FDs such that the table with attributes $A$ (below) is _in 3NF but **not BCNF**_:"
   ]
  },
  {
   "cell_type": "code",
   "execution_count": 2,
   "metadata": {},
   "outputs": [],
   "source": [
    "A = set(['A','B','C'])"
   ]
  },
  {
   "cell_type": "code",
   "execution_count": 4,
   "metadata": {},
   "outputs": [
    {
     "name": "stdout",
     "output_type": "stream",
     "text": [
      "True\n",
      "True\n"
     ]
    }
   ],
   "source": [
    "F = [(set(['A']), set(['B', 'C'])),\n",
    "     (set(['C']), 'A')]\n",
    "sk1 = set(['A'])\n",
    "sk2 = set(['A', 'C'])\n",
    "print(is_superkey_for(sk1, A, F))\n",
    "print(is_superkey_for(sk2, A, F))\n",
    "\n",
    "## there are two fds: A->BC and C->A, and two superkeys: A and AC. \n",
    "## A, C are prime attrs.\n",
    "## it satisfies 3NF (A is superkey for A->BC; C is prime attr for C->A)\n",
    "## but for fd C->A, it does not satisfy BCNF (C is not superkey and fd is not trivial)."
   ]
  },
  {
   "cell_type": "markdown",
   "metadata": {},
   "source": [
    "Exercise 2\n",
    "----------\n",
    "\n",
    "Explain how you would decompose the relation $R$ with attributes $A$ and FDs $F$ below, using the tools again to test / justify your steps:"
   ]
  },
  {
   "cell_type": "code",
   "execution_count": 5,
   "metadata": {},
   "outputs": [],
   "source": [
    "A = set(['A','B','C','D','E'])\n",
    "F = [(set(['B','C']), 'D'),\n",
    "     (set(['D']), 'E'),\n",
    "     (set(['E']), 'C'),\n",
    "     (set(['E']), 'A')]"
   ]
  },
  {
   "cell_type": "markdown",
   "metadata": {},
   "source": [
    "$\\{D\\}^+ = \\{D, E, C, A\\}$, hence $R \\to \\{D, E, C, A\\}\\cup \\{B, D\\}$.\n",
    "\n",
    "$\\{D, E, C, A\\} \\to \\{E, C, A\\}\\cup \\{D, E\\}$ "
   ]
  },
  {
   "cell_type": "code",
   "execution_count": 6,
   "metadata": {},
   "outputs": [],
   "source": [
    "A1 = set(['E', 'C', 'A'])\n",
    "A2 = set(['D', 'E'])\n",
    "A3 = set(['B', 'D'])"
   ]
  },
  {
   "cell_type": "code",
   "execution_count": null,
   "metadata": {},
   "outputs": [],
   "source": []
  }
 ],
 "metadata": {
  "kernelspec": {
   "display_name": "Python 3",
   "language": "python",
   "name": "python3"
  },
  "language_info": {
   "codemirror_mode": {
    "name": "ipython",
    "version": 3
   },
   "file_extension": ".py",
   "mimetype": "text/x-python",
   "name": "python",
   "nbconvert_exporter": "python",
   "pygments_lexer": "ipython3",
   "version": "3.6.5"
  }
 },
 "nbformat": 4,
 "nbformat_minor": 1
}
