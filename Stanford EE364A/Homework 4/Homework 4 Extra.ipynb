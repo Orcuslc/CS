{
 "cells": [
  {
   "cell_type": "markdown",
   "metadata": {},
   "source": [
    "1. By first order condition, it is equivalent to $x$ is feasible and for all feasible $y$, \n",
    "$$\n",
    "\\nabla f(x)^\\top (y-x)\\ge 0.\n",
    "$$\n",
    "Notice if we pick $y = [0, \\cdots, 0, 1_i, 0, \\cdots, 0]$, where $i$ is the index of minimum component of $\\nabla f(x)$, then \n",
    "$$\n",
    "\\nabla f(x)_i \\ge \\nabla f(x)^\\top x.\n",
    "$$\n",
    "On the other hand, if\n",
    "$$\n",
    "\\min_i\\nabla f(x)_i\\ge\\nabla f(x)^\\top x,\n",
    "$$\n",
    "then for each feasible $y$, \n",
    "$$\n",
    "\\nabla f(x)^\\top y = \\sum_{i=1}^{n}\\nabla f(x)_iy_i \\ge \\sum_{i=1}^{n}\\min_j\\nabla f(x)_j y_i = \\min_j\\nabla f(x)_j \\ge \\nabla f(x)^\\top x.\n",
    "$$\n",
    "\n",
    "2.  \n",
    "    (a)  For $l_2$ norm, let $z = (Re(x), Im(x))$, then $\\lVert z\\rVert_2 = \\lVert x\\rVert_2$. Notice $Ax = b$ is equivalent to\n",
    "    $$\\left[\n",
    "    \\begin{aligned}\n",
    "    &Re(A) &-Im(A) \\\\\n",
    "    &Im(A) &Re(A)\n",
    "    \\end{aligned}\\right]\n",
    "    z = \\left[\n",
    "    \\begin{aligned}\n",
    "    &Re(b)\\\\ \n",
    "    &Im(b)\n",
    "    \\end{aligned}\\right]\n",
    "    $$\n",
    "    So the problem becomes a real-valued problem\n",
    "    $$\n",
    "    \\begin{aligned}\n",
    "    \\text{minimize}\\ &\\lVert z\\rVert_2 \\\\\n",
    "    \\text{subject to}\\ &A^*z = b^*.\n",
    "    \\end{aligned}\n",
    "    $$\n",
    "    (b) Using the variable $z$ from (a), the problem can be written as \n",
    "    $$\n",
    "    \\begin{aligned}\n",
    "    \\text{minimize}\\ & t\\\\\n",
    "    \\text{subject to}\\ &\\left\\lVert \\begin{aligned} &z_i \\\\ &z_{n+i}\\end{aligned} \\right\\rVert_2 \\le t, i = 1, 2, \\cdots, n\\\\\n",
    "    &A^*z = b^*.\n",
    "    \\end{aligned}\n",
    "    $$\n",
    "    \n",
    "    (c) First we consider the analytic solution to (a). Consider an equivalent problem $f(x) = \\lVert x\\rVert_2^2$, the Lagrangian is\n",
    "    $$\n",
    "    L(x, \\lambda) = \\lVert x\\rVert_2^2 + \\lambda^\\top(Ax-b).\n",
    "    $$\n",
    "    Hence we have\n",
    "    $$\n",
    "    \\frac{\\partial f}{\\partial x} = 2x+A^\\top\\lambda,\n",
    "    $$\n",
    "    with root $x = -\\frac{1}{2}A^\\top\\lambda$. Then\n",
    "    $$\n",
    "    g(\\lambda) = \\frac{1}{4}\\lVert A^\\top\\lambda\\rVert_2^2-\\frac{1}{2}\\lambda^\\top AA^\\top\\lambda-\\lambda^\\top b,\n",
    "    $$\n",
    "    and\n",
    "    $$\n",
    "    \\frac{\\partial g}{\\partial\\lambda} = \\frac{1}{2}AA^\\top\\lambda - \\frac{1}{2}(AA^\\top+AA^\\top)\\lambda-b,\n",
    "    $$\n",
    "    with root $\\lambda = -2(AA^\\top)^{-1}b$. Hence the minimizer $x = A^\\top(AA^\\top)^{-1}b$.\n",
    "    "
   ]
  },
  {
   "cell_type": "code",
   "execution_count": 22,
   "metadata": {},
   "outputs": [
    {
     "data": {
      "image/png": "[encoded data removed]",
      "text/plain": [
       "<matplotlib.figure.Figure at 0x7f1207091908>"
      ]
     },
     "metadata": {},
     "output_type": "display_data"
    }
   ],
   "source": [
    "# 2.(c)\n",
    "import cvxpy as cvx\n",
    "import numpy as np\n",
    "\n",
    "m = 30\n",
    "n = 100\n",
    "A_re = np.random.random((m, n))\n",
    "A_im = np.random.random((m, n))\n",
    "b_re = np.random.random((m, 1))\n",
    "b_im = np.random.random((m, 1))\n",
    "\n",
    "A = np.concatenate([np.concatenate([A_re, -A_im], axis = 1), np.concatenate([A_im, A_re], axis = 1)], axis = 0)\n",
    "b = np.concatenate([b_re, b_im], axis = 0)\n",
    "\n",
    "A_ = A_re+1j*A_im\n",
    "b_ = b_re+1j*b_im\n",
    "\n",
    "### For (a)\n",
    "xa = A.T.dot(np.linalg.inv(A.dot(A.T))).dot(b)\n",
    "\n",
    "### For (b, 2-norm)\n",
    "x1 = cvx.Variable((100, 1), complex = True)\n",
    "prob = cvx.Problem(cvx.Minimize(cvx.norm(x1)), \n",
    "                  [A_*x1 == b_])\n",
    "prob.solve()\n",
    "\n",
    "### For (b, inf-norm)\n",
    "x2 = cvx.Variable((100, 1), complex = True)\n",
    "prob2 = cvx.Problem(cvx.Minimize(cvx.norm_inf(x2)),\n",
    "                   [A_*x2 == b_])\n",
    "prob2.solve(solver = cvx.SCS)\n",
    "\n",
    "from matplotlib import pyplot as plt\n",
    "plt.scatter(np.real(x1.value), np.imag(x1.value))\n",
    "plt.scatter(np.real(x2.value), np.imag(x2.value), c = 'r')\n",
    "plt.xlabel('real')\n",
    "plt.ylabel('imag')\n",
    "plt.axis('square')\n",
    "plt.show()"
   ]
  },
  {
   "cell_type": "code",
   "execution_count": 36,
   "metadata": {},
   "outputs": [
    {
     "name": "stdout",
     "output_type": "stream",
     "text": [
      "optimal primal variable:\n",
      " [[-2.33333333]\n",
      " [ 0.16666667]]\n",
      "optimal dual variable:\n",
      " [[-4.83333333]\n",
      " [ 3.        ]\n",
      " [ 2.54919461]]\n"
     ]
    },
    {
     "data": {
      "text/plain": [
       "'\"\\nThe KKT conditions are:\\n    1. Primal constraints: \\n        x_1+2x_2<=u_1,\\n        x_1-4x_2<=u_2,\\n        5x_1+76x_2<=1\\n    2. dual constraints:\\n        lambda_i >= 0\\n    3. complementary slackness:\\n        lambda_i*f_i(x) = 0\\n    4. gradient of lagrangian w.r.t. x:\\n        2x_1-x_2-1+lambda_1+lambda_2+5lambda_3 = 0,\\n        4x_2-x_1+2lambda_1-4lambda_2+76lambda_3 = 0.\\n        \\nSince lambda_1 < 0, the KKT conditions are not satisfied.\\n'"
      ]
     },
     "execution_count": 36,
     "metadata": {},
     "output_type": "execute_result"
    }
   ],
   "source": [
    "# 3.(a)\n",
    "\n",
    "x = cvx.Variable((2, 1))\n",
    "P = np.asarray([[1, -1/2], [-1/2, 2]])\n",
    "c = np.asarray([[-1], [0]])\n",
    "A = np.asarray([[1, 2], [1, -4], [5, 76]])\n",
    "b = np.asarray([[-2], [-3], [1]])\n",
    "constraints = [A*x <= b]\n",
    "prob = cvx.Problem(cvx.Minimize(cvx.quad_form(x, P)+c.T*x),\n",
    "                  constraints)\n",
    "prob.solve()\n",
    "print(\"optimal primal variable:\\n\", x.value)\n",
    "print(\"optimal dual variable:\\n\", constraints[0].dual_value)\n",
    "\n",
    "\"\"\"\"\n",
    "The KKT conditions are:\n",
    "    1. Primal constraints: \n",
    "        x_1+2x_2<=u_1,\n",
    "        x_1-4x_2<=u_2,\n",
    "        5x_1+76x_2<=1\n",
    "    2. dual constraints:\n",
    "        lambda_i >= 0\n",
    "    3. complementary slackness:\n",
    "        lambda_i*f_i(x) = 0\n",
    "    4. gradient of lagrangian w.r.t. x:\n",
    "        2x_1-x_2-1+lambda_1+lambda_2+5lambda_3 = 0,\n",
    "        4x_2-x_1+2lambda_1-4lambda_2+76lambda_3 = 0.\n",
    "        \n",
    "Since lambda_1 < 0, the KKT conditions are not satisfied.\n",
    "\"\"\""
   ]
  },
  {
   "cell_type": "code",
   "execution_count": null,
   "metadata": {},
   "outputs": [],
   "source": []
  },
  {
   "cell_type": "code",
   "execution_count": null,
   "metadata": {},
   "outputs": [],
   "source": []
  }
 ],
 "metadata": {
  "kernelspec": {
   "display_name": "Python 3",
   "language": "python",
   "name": "python3"
  },
  "language_info": {
   "codemirror_mode": {
    "name": "ipython",
    "version": 3
   },
   "file_extension": ".py",
   "mimetype": "text/x-python",
   "name": "python",
   "nbconvert_exporter": "python",
   "pygments_lexer": "ipython3",
   "version": "3.6.5"
  }
 },
 "nbformat": 4,
 "nbformat_minor": 2
}
