{
 "cells": [
  {
   "cell_type": "code",
   "execution_count": 5,
   "metadata": {},
   "outputs": [],
   "source": [
    "import numpy as np\n",
    "import cvxpy as cvx"
   ]
  },
  {
   "cell_type": "markdown",
   "metadata": {},
   "source": [
    "# Problem 1"
   ]
  },
  {
   "cell_type": "code",
   "execution_count": 4,
   "metadata": {},
   "outputs": [],
   "source": [
    "A = np.array([[1,2,0,1],\n",
    "              [0,0,3,1],\n",
    "              [0,3,1,1],\n",
    "              [2,1,2,5],\n",
    "              [1,0,3,2]\n",
    "             ])\n",
    "c_max = np.array([[100],[100],[100],[100],[100]])\n",
    "p = np.array([[3],[2],[7],[6]])\n",
    "p_disc = np.array([[2],[1],[4],[2]])\n",
    "q = np.array([[4],[10],[5],[10]])"
   ]
  },
  {
   "cell_type": "markdown",
   "metadata": {},
   "source": [
    "Solving the original problem\n",
    "$$\n",
    "\\begin{align}\n",
    "\\text{maximize}\\ &\\sum_{i=1}^{n}r_j(x_j) \\\\\n",
    "\\text{subject to}\\ &x\\succcurlyeq 0,\\\\\n",
    "&Ax\\preccurlyeq c^{max}\n",
    "\\end{align}\n",
    "$$\n"
   ]
  },
  {
   "cell_type": "code",
   "execution_count": 28,
   "metadata": {
    "scrolled": true
   },
   "outputs": [
    {
     "name": "stdout",
     "output_type": "stream",
     "text": [
      "\n",
      "ECOS 2.0.4 - (C) embotech GmbH, Zurich Switzerland, 2012-15. Web: www.embotech.com/ECOS\n",
      "\n",
      "It     pcost       dcost      gap   pres   dres    k/t    mu     step   sigma     IR    |   BT\n",
      " 0  -2.186e+02  -8.578e+02  +8e+02  1e-01  5e-01  1e+00  4e+01    ---    ---    1  1  - |  -  - \n",
      " 1  -1.815e+02  -2.916e+02  +2e+02  2e-02  1e-01  4e+00  1e+01  0.8726  1e-01   0  0  0 |  0  0\n",
      " 2  -1.925e+02  -2.247e+02  +6e+01  6e-03  3e-02  1e+00  3e+00  0.7748  1e-01   0  0  0 |  0  0\n",
      " 3  -1.917e+02  -1.968e+02  +9e+00  1e-03  5e-03  2e-01  5e-01  0.9415  1e-01   0  0  0 |  0  0\n",
      " 4  -1.924e+02  -1.932e+02  +1e+00  1e-04  8e-04  3e-02  8e-02  0.8738  2e-02   0  0  0 |  0  0\n",
      " 5  -1.925e+02  -1.925e+02  +2e-02  2e-06  9e-06  4e-04  9e-04  0.9890  8e-04   1  0  0 |  0  0\n",
      " 6  -1.925e+02  -1.925e+02  +2e-04  2e-08  1e-07  4e-06  1e-05  0.9890  1e-04   1  0  0 |  0  0\n",
      " 7  -1.925e+02  -1.925e+02  +2e-06  2e-10  1e-09  5e-08  1e-07  0.9890  1e-04   1  0  0 |  0  0\n",
      "\n",
      "OPTIMAL (within feastol=1.1e-09, reltol=9.9e-09, abstol=1.9e-06).\n",
      "Runtime: 0.000604 seconds.\n",
      "\n",
      "x: [[ 3.99999996]\n",
      " [22.49999989]\n",
      " [30.99999995]\n",
      " [ 1.50000005]]\n",
      "r: -maximum(-[[3.]\n",
      " [2.]\n",
      " [7.]\n",
      " [6.]] * var253, -[[3.]\n",
      " [2.]\n",
      " [7.]\n",
      " [6.]] * [[ 4.]\n",
      " [10.]\n",
      " [ 5.]\n",
      " [10.]] + [[2.]\n",
      " [1.]\n",
      " [4.]\n",
      " [2.]] * var253 + -[[ 4.]\n",
      " [10.]\n",
      " [ 5.]\n",
      " [10.]])\n",
      "total: 192.499999894719\n",
      "average: -maximum(-[[3.]\n",
      " [2.]\n",
      " [7.]\n",
      " [6.]] * var253, -[[3.]\n",
      " [2.]\n",
      " [7.]\n",
      " [6.]] * [[ 4.]\n",
      " [10.]\n",
      " [ 5.]\n",
      " [10.]] + [[2.]\n",
      " [1.]\n",
      " [4.]\n",
      " [2.]] * var253 + -[[ 4.]\n",
      " [10.]\n",
      " [ 5.]\n",
      " [10.]]) * power([[ 3.99999996]\n",
      " [22.49999989]\n",
      " [30.99999995]\n",
      " [ 1.50000005]], -1)\n"
     ]
    }
   ],
   "source": [
    "x = cvx.Variable((4, 1))\n",
    "r = cvx.minimum(cvx.multiply(p, x), cvx.multiply(p, q)+cvx.multiply(p_disc, x-q))\n",
    "prob = cvx.Problem(cvx.Maximize(cvx.sum(r)),\n",
    "                  [x >= 0,\n",
    "                  A*x <= c_max])\n",
    "prob.solve(verbose=True)\n",
    "print(\"x:\", x.value)\n",
    "print(\"r:\", r)\n",
    "print(\"total:\", prob.value)\n",
    "print(\"average:\", cvx.multiply(r, cvx.inv_pos(x.value)))"
   ]
  },
  {
   "cell_type": "markdown",
   "metadata": {},
   "source": [
    "Solving the LP \n",
    "$$\n",
    "\\begin{aligned}\n",
    "\\text{maximize}\\qquad &1^\\top t\\\\\n",
    "\\text{subject to}\\qquad &x\\succcurlyeq 0,\\\\\n",
    "    &Ax\\preccurlyeq c^{max},\\\\\n",
    "    &p_jx_j\\ge t_j,\\\\\n",
    "    &p_jq_j+p_j^{disc}(x_j-q_j)\\ge t_j\n",
    "\\end{aligned}\n",
    "$$"
   ]
  },
  {
   "cell_type": "code",
   "execution_count": 31,
   "metadata": {
    "scrolled": true
   },
   "outputs": [
    {
     "name": "stdout",
     "output_type": "stream",
     "text": [
      "----------------------------------------------------------------------------\n",
      "\tSCS v2.0.2 - Splitting Conic Solver\n",
      "\t(c) Brendan O'Donoghue, Stanford University, 2012-2017\n",
      "----------------------------------------------------------------------------\n",
      "Lin-sys: sparse-indirect, nnz in A = 35, CG tol ~ 1/iter^(2.00)\n",
      "eps = 1.00e-05, alpha = 1.50, max_iters = 5000, normalize = 1, scale = 1.00\n",
      "acceleration_lookback = 20, rho_x = 1.00e-03\n",
      "Variables n = 8, constraints m = 17\n",
      "Cones:\tlinear vars: 17\n",
      "Setup time: 5.66e-03s\n",
      "----------------------------------------------------------------------------\n",
      " Iter | pri res | dua res | rel gap | pri obj | dua obj | kap/tau | time (s)\n",
      "----------------------------------------------------------------------------\n",
      "     0| 2.50e+01  3.34e+01  5.00e-01 -8.56e+03 -2.85e+03  0.00e+00  2.30e-02 \n",
      "    80| 4.26e-07  8.78e-07  1.30e-07 -1.92e+02 -1.93e+02  7.30e-14  3.14e-02 \n",
      "----------------------------------------------------------------------------\n",
      "Status: Solved\n",
      "Timing: Solve time: 3.14e-02s\n",
      "\tLin-sys: avg # CG iterations: 4.14, avg solve time: 2.79e-04s\n",
      "\tCones: avg projection time: 6.73e-08s\n",
      "\tAcceleration: avg step time: 2.88e-05s\n",
      "----------------------------------------------------------------------------\n",
      "Error metrics:\n",
      "dist(s, K) = 1.3217e-14, dist(y, K*) = 0.0000e+00, s'y/|s||y| = 3.2357e-16\n",
      "primal res: |Ax + s - b|_2 / (1 + |b|_2) = 4.2602e-07\n",
      "dual res:   |A'y + c|_2 / (1 + |c|_2) = 8.7752e-07\n",
      "rel gap:    |c'x + b'y| / (1 + |c'x| + |b'y|) = 1.3028e-07\n",
      "----------------------------------------------------------------------------\n",
      "c'x = -192.5000, -b'y = -192.5000\n",
      "============================================================================\n"
     ]
    },
    {
     "data": {
      "text/plain": [
       "192.49996452157424"
      ]
     },
     "execution_count": 31,
     "metadata": {},
     "output_type": "execute_result"
    }
   ],
   "source": [
    "t = cvx.Variable((4, 1))\n",
    "x = cvx.Variable((4, 1))\n",
    "one = np.ones((1, 4))\n",
    "prob = cvx.Problem(cvx.Maximize(cvx.sum(t)), \n",
    "                  [x >= 0,\n",
    "                  A*x <= c_max,\n",
    "                  cvx.multiply(p, x) >= t,\n",
    "                  cvx.multiply(p, q)+cvx.multiply(p_disc, (x-q)) >= t\n",
    "                  ])\n",
    "prob.solve(solver='SCS', verbose=True)"
   ]
  },
  {
   "cell_type": "markdown",
   "metadata": {},
   "source": [
    "# Problem 2\n",
    "(a) Left is convex, but the equality constraint is valid only when both sides are affine. $x == 0, y == 0$  \n",
    "(b) `square` is convex and is neither nonincreasing nor nondecreasing, so it can only accept affine inputs. Change to $(x+y)^4$.  \n",
    "(c) $\\frac{1}{x}$ is not convex on $\\mathbb{R}_{+}$. Need to change constraints to $x > 0, y > 0$.  \n",
    "(d) `norm` is convex and is neither nonincreasing nor nondecreasing, so it can only accept affine inputs. Change to \n",
    "    $$ norm([s, t]) \\le 3x+y \\\\\n",
    "       \\max(x, 1) \\le s, \\max(y, 2) \\le t\n",
    "    $$\n",
    "(e) $xy$ is not concave. Change to `x >= inv_pos(y)`  \n",
    "(f) Cannot divide a convex function with an concave func. Change to `quad_over_lin([x+y], sqrt(y))` \n",
    "(g) $x^3$ is not convex in whole domain. Change to `power(x, 3)+power(y, 3)`  \n",
    "(h) same with (e). change to `x+z <= geomean([y, z-quad_over_lin(z, y)])`"
   ]
  },
  {
   "cell_type": "markdown",
   "metadata": {},
   "source": [
    "# Problem 3"
   ]
  },
  {
   "cell_type": "code",
   "execution_count": null,
   "metadata": {},
   "outputs": [],
   "source": []
  }
 ],
 "metadata": {
  "kernelspec": {
   "display_name": "Python 3",
   "language": "python",
   "name": "python3"
  },
  "language_info": {
   "codemirror_mode": {
    "name": "ipython",
    "version": 3
   },
   "file_extension": ".py",
   "mimetype": "text/x-python",
   "name": "python",
   "nbconvert_exporter": "python",
   "pygments_lexer": "ipython3",
   "version": "3.6.5"
  }
 },
 "nbformat": 4,
 "nbformat_minor": 2
}
